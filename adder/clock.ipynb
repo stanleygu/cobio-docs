{
 "metadata": {
  "signature": "sha256:506483e14629c23775c13133f132f94204001c27db6c52f37e0d3460190c53cf"
 },
 "nbformat": 3,
 "nbformat_minor": 0,
 "worksheets": [
  {
   "cells": [
    {
     "cell_type": "code",
     "collapsed": false,
     "input": [
      "antimony = '''\n",
      "  model clock(amplitude, period, phaseShift)\n",
      "     amplitude = 1\n",
      "     period = 1\n",
      "     phaseShift = 0\n",
      "\n",
      "     # Here's an assignment rule that uses a 'piecewise' function:\n",
      "     UpDown := piecewise(1,sin(2*pi*(time-phaseShift)/period) >  0, 0);\n",
      "\n",
      "     signal := amplitude*UpDown;\n",
      "  end\n",
      "'''\n"
     ],
     "language": "python",
     "metadata": {},
     "outputs": [],
     "prompt_number": 1
    },
    {
     "cell_type": "code",
     "collapsed": false,
     "input": [
      "def test():\n",
      "    import tellurium as te\n",
      "    import numpy as np\n",
      "    \n",
      "    testmodel = antimony + '''\n",
      "    model test()\n",
      "        c: clock(a, p, ps)\n",
      "        a = 1;\n",
      "        p = 1;\n",
      "        ps = 0;\n",
      "    end\n",
      "    '''\n",
      "    \n",
      "    r = te.loada(testmodel)\n",
      "\n",
      "    r.selections = ['time', 'c_signal']\n",
      "    start = 0\n",
      "    end = 2\n",
      "    sim = r.simulate(start, end, 100)\n",
      "    te.plotArray(sim)\n",
      "    \n",
      "    for p1 in np.arange(start, end, step=r.p):\n",
      "        t_up = p1 + r.p*0.25\n",
      "    return r, sim\n",
      "\n",
      "r, sim = test()"
     ],
     "language": "python",
     "metadata": {},
     "outputs": [
      {
       "metadata": {},
       "output_type": "display_data",
       "png": "[encoded data removed]",
       "text": [
        "<matplotlib.figure.Figure at 0x3ada550>"
       ]
      }
     ],
     "prompt_number": 4
    },
    {
     "cell_type": "code",
     "collapsed": false,
     "input": [],
     "language": "python",
     "metadata": {},
     "outputs": []
    }
   ],
   "metadata": {}
  }
 ]
}
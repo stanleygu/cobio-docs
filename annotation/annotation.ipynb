{
 "metadata": {
  "signature": "sha256:bf94385d19e4ed3288db062699c190aa54cc1879ff253edb15cb8dc79d871b26"
 },
 "nbformat": 3,
 "nbformat_minor": 0,
 "worksheets": [
  {
   "cells": [
    {
     "cell_type": "code",
     "collapsed": false,
     "input": [
      "!pip install --upgrade git+https://github.com/stanleygu/tellurium.git"
     ],
     "language": "python",
     "metadata": {},
     "outputs": [
      {
       "output_type": "stream",
       "stream": "stdout",
       "text": [
        "Downloading/unpacking git+https://github.com/stanleygu/tellurium.git\r\n",
        "  Cloning https://github.com/stanleygu/tellurium.git to /tmp/pip-xIQrST-build\r\n"
       ]
      },
      {
       "output_type": "stream",
       "stream": "stdout",
       "text": [
        "  Running setup.py (path:/tmp/pip-xIQrST-build/setup.py) egg_info for package from git+https://github.com/stanleygu/tellurium.git\r\n"
       ]
      },
      {
       "output_type": "stream",
       "stream": "stdout",
       "text": [
        "    \r\n"
       ]
      },
      {
       "output_type": "stream",
       "stream": "stdout",
       "text": [
        "Installing collected packages: tellurium\r\n",
        "  Found existing installation: tellurium 1.1.7\r\n",
        "    Uninstalling tellurium:\r\n"
       ]
      },
      {
       "output_type": "stream",
       "stream": "stdout",
       "text": [
        "      Successfully uninstalled tellurium\r\n",
        "  Running setup.py install for tellurium\r\n"
       ]
      },
      {
       "output_type": "stream",
       "stream": "stdout",
       "text": [
        "    \r\n"
       ]
      },
      {
       "output_type": "stream",
       "stream": "stdout",
       "text": [
        "Successfully installed tellurium\r\n",
        "Cleaning up...\r\n"
       ]
      }
     ],
     "prompt_number": 53
    },
    {
     "cell_type": "code",
     "collapsed": false,
     "input": [
      "import tellurium as te\n",
      "# Model with reaction that I want to annotate with controlled vocabulary terms\n",
      "rr = te.loada('''\n",
      "J1: glu + atp -> g6p + adp; J1_vm*(glu*atp)^J1_n / (J1_kd + (glu*atp)^J1_n);\n",
      "\n",
      "glu = 10; atp = 10;\n",
      "J1_vm = 10; J1_kd = 4; J1_n = 2;\n",
      "''')\n",
      "\n",
      "sim = rr.simulate(0, 2, 100, ['time', 'glu', 'g6p', 'J1'])\n",
      "sim = te.plotWithLegend(rr, sim)"
     ],
     "language": "python",
     "metadata": {},
     "outputs": [
      {
       "metadata": {},
       "output_type": "display_data",
       "png": "[encoded data removed]",
       "text": [
        "<matplotlib.figure.Figure at 0x2b501d0>"
       ]
      }
     ],
     "prompt_number": 1
    },
    {
     "cell_type": "code",
     "collapsed": false,
     "input": [
      "## Code to interactively find correct resource URIs\n",
      "from tellurium.widgets import OntologySearch\n",
      "OntologySearch()"
     ],
     "language": "python",
     "metadata": {},
     "outputs": [
      {
       "metadata": {},
       "output_type": "pyout",
       "prompt_number": 2,
       "text": [
        "<tellurium.widgets._ontology_search.OntologySearch instance at 0x24578c0>"
       ]
      }
     ],
     "prompt_number": 2
    },
    {
     "cell_type": "code",
     "collapsed": false,
     "input": [
      "# Dictionary containing element IDs and CV resource URIs\n",
      "from libsbml import BQB_IS, readSBMLFromString\n",
      "annotations = {\n",
      "    'glu': (BQB_IS, 'http://identifiers.org/chebi/CHEBI:17234'),\n",
      "    'g6p': (BQB_IS, 'http://identifiers.org/chebi/CHEBI:17719'),\n",
      "    'J1': (BQB_IS, 'http://identifiers.org/kegg.reaction/R00299')\n",
      "}"
     ],
     "language": "python",
     "metadata": {},
     "outputs": [],
     "prompt_number": 5
    },
    {
     "cell_type": "code",
     "collapsed": false,
     "input": [
      "# Run annotator\n",
      "from tellurium.annotation import append_annotations\n",
      "b = readSBMLFromString(rr.getSBML())\n",
      "doc = append_annotations(b, annotations)"
     ],
     "language": "python",
     "metadata": {},
     "outputs": [],
     "prompt_number": 6
    },
    {
     "cell_type": "code",
     "collapsed": false,
     "input": [
      "# Inspect annotations, currently don't show up\n",
      "print doc.toSBML()"
     ],
     "language": "python",
     "metadata": {},
     "outputs": [
      {
       "output_type": "stream",
       "stream": "stdout",
       "text": [
        "<sbml xmlns=\"http://www.sbml.org/sbml/level3/version1/core\" level=\"3\" version=\"1\">\n",
        "  <model id=\"__main\" name=\"__main\">\n",
        "    <listOfCompartments>\n",
        "      <compartment sboTerm=\"SBO:0000410\" id=\"default_compartment\" spatialDimensions=\"3\" size=\"1\" constant=\"true\"/>\n",
        "    </listOfCompartments>\n",
        "    <listOfSpecies>\n",
        "      <species metaid=\"glu_meta\" id=\"glu\" compartment=\"default_compartment\" initialConcentration=\"10\" hasOnlySubstanceUnits=\"false\" boundaryCondition=\"false\" constant=\"false\">\n",
        "        <annotation>\n",
        "          <rdf:RDF xmlns:rdf=\"http://www.w3.org/1999/02/22-rdf-syntax-ns#\" xmlns:dc=\"http://purl.org/dc/elements/1.1/\" xmlns:dcterms=\"http://purl.org/dc/terms/\" xmlns:vCard=\"http://www.w3.org/2001/vcard-rdf/3.0#\" xmlns:bqbiol=\"http://biomodels.net/biology-qualifiers/\" xmlns:bqmodel=\"http://biomodels.net/model-qualifiers/\">\n",
        "            <rdf:Description rdf:about=\"#glu_meta\">\n",
        "              <bqbiol:is>\n",
        "                <rdf:Bag>\n",
        "                  <rdf:li rdf:resource=\"http://identifiers.org/chebi/CHEBI:17234\"/>\n",
        "                </rdf:Bag>\n",
        "              </bqbiol:is>\n",
        "            </rdf:Description>\n",
        "          </rdf:RDF>\n",
        "        </annotation>\n",
        "      </species>\n",
        "      <species id=\"atp\" compartment=\"default_compartment\" initialConcentration=\"10\" hasOnlySubstanceUnits=\"false\" boundaryCondition=\"false\" constant=\"false\"/>\n",
        "      <species metaid=\"g6p_meta\" id=\"g6p\" compartment=\"default_compartment\" hasOnlySubstanceUnits=\"false\" boundaryCondition=\"false\" constant=\"false\">\n",
        "        <annotation>\n",
        "          <rdf:RDF xmlns:rdf=\"http://www.w3.org/1999/02/22-rdf-syntax-ns#\" xmlns:dc=\"http://purl.org/dc/elements/1.1/\" xmlns:dcterms=\"http://purl.org/dc/terms/\" xmlns:vCard=\"http://www.w3.org/2001/vcard-rdf/3.0#\" xmlns:bqbiol=\"http://biomodels.net/biology-qualifiers/\" xmlns:bqmodel=\"http://biomodels.net/model-qualifiers/\">\n",
        "            <rdf:Description rdf:about=\"#g6p_meta\">\n",
        "              <bqbiol:is>\n",
        "                <rdf:Bag>\n",
        "                  <rdf:li rdf:resource=\"http://identifiers.org/chebi/CHEBI:17719\"/>\n",
        "                </rdf:Bag>\n",
        "              </bqbiol:is>\n",
        "            </rdf:Description>\n",
        "          </rdf:RDF>\n",
        "        </annotation>\n",
        "      </species>\n",
        "      <species id=\"adp\" compartment=\"default_compartment\" hasOnlySubstanceUnits=\"false\" boundaryCondition=\"false\" constant=\"false\"/>\n",
        "    </listOfSpecies>\n",
        "    <listOfParameters>\n",
        "      <parameter id=\"J1_vm\" value=\"10\" constant=\"true\"/>\n",
        "      <parameter id=\"J1_n\" value=\"2\" constant=\"true\"/>\n",
        "      <parameter id=\"J1_kd\" value=\"4\" constant=\"true\"/>\n",
        "    </listOfParameters>\n",
        "    <listOfReactions>\n",
        "      <reaction metaid=\"J1_meta\" id=\"J1\" reversible=\"true\" fast=\"false\">\n",
        "        <annotation>\n",
        "          <rdf:RDF xmlns:rdf=\"http://www.w3.org/1999/02/22-rdf-syntax-ns#\" xmlns:dc=\"http://purl.org/dc/elements/1.1/\" xmlns:dcterms=\"http://purl.org/dc/terms/\" xmlns:vCard=\"http://www.w3.org/2001/vcard-rdf/3.0#\" xmlns:bqbiol=\"http://biomodels.net/biology-qualifiers/\" xmlns:bqmodel=\"http://biomodels.net/model-qualifiers/\">\n",
        "            <rdf:Description rdf:about=\"#J1_meta\">\n",
        "              <bqbiol:is>\n",
        "                <rdf:Bag>\n",
        "                  <rdf:li rdf:resource=\"http://identifiers.org/kegg.reaction/R00299\"/>\n",
        "                </rdf:Bag>\n",
        "              </bqbiol:is>\n",
        "            </rdf:Description>\n",
        "          </rdf:RDF>\n",
        "        </annotation>\n",
        "        <listOfReactants>\n",
        "          <speciesReference species=\"glu\" stoichiometry=\"1\" constant=\"true\"/>\n",
        "          <speciesReference species=\"atp\" stoichiometry=\"1\" constant=\"true\"/>\n",
        "        </listOfReactants>\n",
        "        <listOfProducts>\n",
        "          <speciesReference species=\"g6p\" stoichiometry=\"1\" constant=\"true\"/>\n",
        "          <speciesReference species=\"adp\" stoichiometry=\"1\" constant=\"true\"/>\n",
        "        </listOfProducts>\n",
        "        <kineticLaw>\n",
        "          <math xmlns=\"http://www.w3.org/1998/Math/MathML\">\n",
        "            <apply>\n",
        "              <divide/>\n",
        "              <apply>\n",
        "                <times/>\n",
        "                <ci> J1_vm </ci>\n",
        "                <apply>\n",
        "                  <power/>\n",
        "                  <apply>\n",
        "                    <times/>\n",
        "                    <ci> glu </ci>\n",
        "                    <ci> atp </ci>\n",
        "                  </apply>\n",
        "                  <ci> J1_n </ci>\n",
        "                </apply>\n",
        "              </apply>\n",
        "              <apply>\n",
        "                <plus/>\n",
        "                <ci> J1_kd </ci>\n",
        "                <apply>\n",
        "                  <power/>\n",
        "                  <apply>\n",
        "                    <times/>\n",
        "                    <ci> glu </ci>\n",
        "                    <ci> atp </ci>\n",
        "                  </apply>\n",
        "                  <ci> J1_n </ci>\n",
        "                </apply>\n",
        "              </apply>\n",
        "            </apply>\n",
        "          </math>\n",
        "        </kineticLaw>\n",
        "      </reaction>\n",
        "    </listOfReactions>\n",
        "  </model>\n",
        "</sbml>\n"
       ]
      }
     ],
     "prompt_number": 7
    }
   ],
   "metadata": {}
  }
 ]
}
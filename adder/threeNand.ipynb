{
 "metadata": {
  "signature": "sha256:df1b4459e8bab893e64df40b5cc13794defa5d6c67ce3800eae5b062f5d02512"
 },
 "nbformat": 3,
 "nbformat_minor": 0,
 "worksheets": [
  {
   "cells": [
    {
     "cell_type": "code",
     "collapsed": false,
     "input": [
      "import notebooktools as nb\n",
      "nb.loadNotebooksAsModules()"
     ],
     "language": "python",
     "metadata": {},
     "outputs": [],
     "prompt_number": 1
    },
    {
     "cell_type": "code",
     "collapsed": false,
     "input": [
      "import andgate\n",
      "import nand"
     ],
     "language": "python",
     "metadata": {},
     "outputs": [
      {
       "output_type": "stream",
       "stream": "stdout",
       "text": [
        "importing IPython notebook from andgate.ipynb\n",
        "importing IPython notebook from nand.ipynb\n"
       ]
      }
     ],
     "prompt_number": 2
    },
    {
     "cell_type": "code",
     "collapsed": false,
     "input": [
      "antimony = andgate.antimony + nand.antimony + '''\n",
      "model threeNand(A, B, C, Q)\n",
      "    a1: andgate(A, B, X1);\n",
      "    a2: andgate(B, C, X2);\n",
      "    na: nandgate(X1, X2, Q);\n",
      "end\n",
      "'''"
     ],
     "language": "python",
     "metadata": {},
     "outputs": [],
     "prompt_number": 3
    },
    {
     "cell_type": "code",
     "collapsed": false,
     "input": [
      "def test():\n",
      "    from helpers.testing import test_truth_table\n",
      "    input_ids = ['A', 'B', 'C']\n",
      "    output_ids = ['X1', 'X2', 'Q']\n",
      "    truth_table = [\n",
      "        ([0, 0, 0], [0, 0, 1]),\n",
      "        ([0, 0, 1], [0, 0, 1]),\n",
      "        ([0, 1, 0], [0, 0, 1]),\n",
      "        ([1, 0, 0], [0, 0, 1]),\n",
      "        ([0, 1, 1], [0, 1, 1]),\n",
      "        ([1, 0, 1], [0, 0, 1]),\n",
      "        ([1, 1, 0], [1, 0, 1]),\n",
      "        ([1, 1, 1], [1, 1, 0]),\n",
      "    ]\n",
      "\n",
      "    r, sims = test_truth_table(antimony, input_ids, output_ids, truth_table,\n",
      "                            delay=200)\n",
      "    # Concatenate simulations\n",
      "    for i, sim in enumerate(sims):\n",
      "        if i == 0:\n",
      "            continue\n",
      "        lastTime = sims[i-1][-1, 0]\n",
      "        sim[:,0] += lastTime\n",
      "    import numpy as np\n",
      "    import tellurium as te\n",
      "    te.plotWithLegend(r, np.vstack(sims))"
     ],
     "language": "python",
     "metadata": {},
     "outputs": [],
     "prompt_number": 6
    }
   ],
   "metadata": {}
  }
 ]
}
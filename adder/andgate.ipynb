{
 "metadata": {
  "signature": "sha256:f9c128dda3c3a11d1c226bad0977a0b4eebca845160ce6d98fcc1e7ad2175960"
 },
 "nbformat": 3,
 "nbformat_minor": 0,
 "worksheets": [
  {
   "cells": [
    {
     "cell_type": "markdown",
     "metadata": {},
     "source": [
      "![ANDGATE](http://upload.wikimedia.org/wikipedia/commons/b/b9/AND_ANSI_Labelled.svg)\n",
      "\n",
      "<style type=\"text/css\">\n",
      ".tg  {border-collapse:collapse;border-spacing:0;}\n",
      ".tg td{font-family:Arial, sans-serif;font-size:14px;padding:10px 5px;border-style:solid;border-width:1px;overflow:hidden;word-break:normal;}\n",
      ".tg th{font-family:Arial, sans-serif;font-size:14px;font-weight:normal;padding:10px 5px;border-style:solid;border-width:1px;overflow:hidden;word-break:normal;}\n",
      ".tg .tg-e3zv{font-weight:bold}\n",
      "</style>\n",
      "<table class=\"tg\">\n",
      "  <tr>\n",
      "    <th class=\"tg-e3zv\">A</th>\n",
      "    <th class=\"tg-e3zv\">B</th>\n",
      "    <th class=\"tg-e3zv\">Q</th>\n",
      "  </tr>\n",
      "  <tr>\n",
      "    <td class=\"tg-031e\">0</td>\n",
      "    <td class=\"tg-031e\">0</td>\n",
      "    <td class=\"tg-031e\">0</td>\n",
      "  </tr>\n",
      "  <tr>\n",
      "    <td class=\"tg-031e\">1</td>\n",
      "    <td class=\"tg-031e\">0</td>\n",
      "    <td class=\"tg-031e\">0</td>\n",
      "  </tr>\n",
      "  <tr>\n",
      "    <td class=\"tg-031e\">0</td>\n",
      "    <td class=\"tg-031e\">1</td>\n",
      "    <td class=\"tg-031e\">0</td>\n",
      "  </tr>\n",
      "  <tr>\n",
      "    <td class=\"tg-031e\">1</td>\n",
      "    <td class=\"tg-031e\">1</td>\n",
      "    <td class=\"tg-031e\">1</td>\n",
      "  </tr>\n",
      "</table>"
     ]
    },
    {
     "cell_type": "code",
     "collapsed": false,
     "input": [
      "antimony = '''\n",
      "model andgate(A, B, Q)\n",
      "    -> Q; Vmax*(b*A*B)/(a+A+B+b*A*B);\n",
      "    Q -> ; gamma_0*Q\n",
      "\n",
      "    gamma_0 = 0.1;\n",
      "    Vmax = 0.1;\n",
      "    Q = 0;\n",
      "    a= 0.0001; b=1000;\n",
      "end\n",
      "'''"
     ],
     "language": "python",
     "metadata": {},
     "outputs": []
    },
    {
     "cell_type": "code",
     "collapsed": false,
     "input": [
      "def test(model=None, plot=False):\n",
      "    '''Test the behavior of the AND gate\n",
      "    \n",
      "    input:\n",
      "    model - antimony string of modified model (default uses unmodified model)\n",
      "    plot - boolean to show plot of test simulation (default is False)\n",
      "    '''\n",
      "    if model is None:\n",
      "        model = antimony\n",
      "    \n",
      "    testmodel = model + '''\n",
      "    model test\n",
      "        a: andgate(S1, S2, Y);\n",
      "\n",
      "        at  (time < 100):              S1 = 0, S2 = 0 // Y=1\n",
      "        at (time > 100 && time < 201): S1 = 0, S2 = 1 // Y=0\n",
      "        at (time > 200 && time < 301): S1 = 1, S2 = 0 // Y=0\n",
      "        at (time > 300 && time < 401): S1 = 1, S2 = 1 // Y=1\n",
      "    end\n",
      "    '''\n",
      "    \n",
      "    import tellurium as te\n",
      "    r = te.loada(testmodel)\n",
      "    sim = r.simulate(0, 400, 400)\n",
      "    if plot:\n",
      "        te.plotWithLegend(r, sim)\n",
      "    \n",
      "    assert sim[50][1] == 0,    'Should be low when both inputs are low'\n",
      "    assert sim[150][1] < 0.05, 'Should be low when only first input is high'\n",
      "    assert sim[250][1] < 0.05, 'Should be low when only second input is high'\n",
      "    assert sim[350][1] > 0.95, 'Should be high when both inputs are high'"
     ],
     "language": "python",
     "metadata": {},
     "outputs": []
    }
   ],
   "metadata": {}
  }
 ]
}
{
 "metadata": {
  "signature": "sha256:fea0c3b5844ecf0587a04cab05e7bb6cec46c814dbab98248771a42ff7b73199"
 },
 "nbformat": 3,
 "nbformat_minor": 0,
 "worksheets": [
  {
   "cells": [
    {
     "cell_type": "markdown",
     "metadata": {},
     "source": [
      "![](http://i.imgur.com/J0yCByK.png)"
     ]
    },
    {
     "cell_type": "code",
     "collapsed": false,
     "input": [
      "import notebooktools as nb\n",
      "nb.loadNotebooksAsModules()"
     ],
     "language": "python",
     "metadata": {},
     "outputs": [],
     "prompt_number": 10
    },
    {
     "cell_type": "code",
     "collapsed": false,
     "input": [
      "import andgate\n",
      "import nand"
     ],
     "language": "python",
     "metadata": {},
     "outputs": [],
     "prompt_number": 11
    },
    {
     "cell_type": "code",
     "collapsed": false,
     "input": [
      "antimony = andgate.antimony + nand.antimony + '''\n",
      "model threeNand(A, B, C, Q)\n",
      "    a1: andgate(A, B, X1);\n",
      "    a2: andgate(B, C, X2);\n",
      "    na: nandgate(X1, X2, Q);\n",
      "end\n",
      "'''\n",
      "antimony = andgate.antimony + nand.antimony + '''\n",
      "model threeNand(A, B, C, Q)\n",
      "    -> Q; Vmax*(a+A+B+C+b*A*B + b*A*C + b*B*C)/(a+A^n+B^n+C^n+b*(A*B)^n + b*(A*C)^n + b*(B*C)^n + c*(A*B*C)^n);\n",
      "    Q -> ; gamma_0*Q\n",
      "\n",
      "    gamma_0 = 0.1;\n",
      "    Vmax = 0.1;\n",
      "    n = 8;\n",
      "    Q = 0;\n",
      "    a= 0.0001; b=1000; c=1000*1000;\n",
      "end\n",
      "'''"
     ],
     "language": "python",
     "metadata": {},
     "outputs": [],
     "prompt_number": 50
    },
    {
     "cell_type": "code",
     "collapsed": false,
     "input": [
      "testmodel = antimony + '''\n",
      "model testmodel()\n",
      "threen: threeNand(A, B, C, Q)\n",
      "\n",
      "A = 1; B = 1; C = 1;\n",
      "end\n",
      "'''\n",
      "import tellurium as te\n",
      "r = te.loada(testmodel)\n",
      "sim = r.simulate(0, 200, 100)\n",
      "te.plotWithLegend(r, sim)"
     ],
     "language": "python",
     "metadata": {},
     "outputs": [
      {
       "metadata": {},
       "output_type": "display_data",
       "png": "[encoded data removed]",
       "text": [
        "<matplotlib.figure.Figure at 0x45abb90>"
       ]
      },
      {
       "metadata": {},
       "output_type": "pyout",
       "prompt_number": 51,
       "text": [
        "<module 'matplotlib.pyplot' from '/usr/local/lib/python2.7/dist-packages/matplotlib/pyplot.pyc'>"
       ]
      }
     ],
     "prompt_number": 51
    },
    {
     "cell_type": "code",
     "collapsed": false,
     "input": [
      "def test():\n",
      "    from helpers.testing import test_truth_table\n",
      "    input_ids = ['A', 'B', 'C']\n",
      "#     output_ids = ['X1', 'X2', 'Q']\n",
      "#     truth_table = [\n",
      "#         ([0, 0, 0], [0, 0, 1]),\n",
      "#         ([0, 0, 1], [0, 0, 1]),\n",
      "#         ([0, 1, 0], [0, 0, 1]),\n",
      "#         ([1, 0, 0], [0, 0, 1]),\n",
      "#         ([0, 1, 1], [0, 1, 1]),\n",
      "#         ([1, 0, 1], [0, 0, 1]),\n",
      "#         ([1, 1, 0], [1, 0, 1]),\n",
      "#         ([1, 1, 1], [1, 1, 0]),\n",
      "#     ]\n",
      "\n",
      "    output_ids = ['Q']\n",
      "    truth_table = [\n",
      "        ([0, 0, 0], [1]),\n",
      "        ([0, 0, 1], [1]),\n",
      "        ([0, 1, 0], [1]),\n",
      "        ([1, 0, 0], [1]),\n",
      "        ([0, 1, 1], [1]),\n",
      "        ([1, 0, 1], [1]),\n",
      "        ([1, 1, 0], [1]),\n",
      "        ([1, 1, 1], [0]),\n",
      "    ]\n",
      "\n",
      "\n",
      "    r, sims = test_truth_table(antimony, input_ids, output_ids, truth_table,\n",
      "                            delay=400)\n",
      "    # Concatenate simulations\n",
      "    for i, sim in enumerate(sims):\n",
      "        if i == 0:\n",
      "            continue\n",
      "        lastTime = sims[i-1][-1, 0]\n",
      "        sim[:,0] += lastTime\n",
      "    import numpy as np\n",
      "    import tellurium as te\n",
      "    te.plotWithLegend(r, np.vstack(sims))"
     ],
     "language": "python",
     "metadata": {},
     "outputs": [],
     "prompt_number": 52
    },
    {
     "cell_type": "code",
     "collapsed": false,
     "input": [
      "test()"
     ],
     "language": "python",
     "metadata": {},
     "outputs": [
      {
       "output_type": "stream",
       "stream": "stdout",
       "text": [
        "When A:0 B:0 C:0 then Q:1 ; Found Q = 1.000002\n",
        "When A:0 B:0 C:1 then Q:1 ; Found Q = 1.000000\n",
        "When A:0 B:1 C:0 then Q:1 ; Found Q = 0.999999\n",
        "When A:1 B:0 C:0 then Q:1 ; Found Q = 1.000000\n",
        "When A:0 B:1 C:1 then Q:1 ; Found Q = 1.000001\n",
        "When A:1 B:0 C:1 then Q:1 ; Found Q = 0.999999\n",
        "When A:1 B:1 C:0 then Q:1 ; Found Q = 1.000000\n",
        "When A:1 B:1 C:1 then Q:0 ; Found Q = 0.002994\n"
       ]
      },
      {
       "metadata": {},
       "output_type": "display_data",
       "png": "[encoded data removed]",
       "text": [
        "<matplotlib.figure.Figure at 0x4421f90>"
       ]
      }
     ],
     "prompt_number": 49
    }
   ],
   "metadata": {}
  }
 ]
}
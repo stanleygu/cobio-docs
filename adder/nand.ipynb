{
 "metadata": {
  "signature": "sha256:a9690e6d9e4f3f87b7a5010209e48657df607ddf66d84d92db9583a6d9195811"
 },
 "nbformat": 3,
 "nbformat_minor": 0,
 "worksheets": [
  {
   "cells": [
    {
     "cell_type": "markdown",
     "metadata": {},
     "source": [
      "![NANDGATE](http://upload.wikimedia.org/wikipedia/commons/e/e6/NAND_ANSI_Labelled.svg)\n",
      "\n",
      "<style type=\"text/css\">\n",
      ".tg  {border-collapse:collapse;border-spacing:0;}\n",
      ".tg td{font-family:Arial, sans-serif;font-size:14px;padding:10px 5px;border-style:solid;border-width:1px;overflow:hidden;word-break:normal;}\n",
      ".tg th{font-family:Arial, sans-serif;font-size:14px;font-weight:normal;padding:10px 5px;border-style:solid;border-width:1px;overflow:hidden;word-break:normal;}\n",
      ".tg .tg-e3zv{font-weight:bold}\n",
      "</style>\n",
      "<table class=\"tg\">\n",
      "<tbody>\n",
      "<tr>\n",
      "<th colspan=\"2\">Inputs</th>\n",
      "<th>Output</th>\n",
      "</tr>\n",
      "  <tr>\n",
      "    <th class=\"tg-e3zv\">A</th>\n",
      "    <th class=\"tg-e3zv\">B</th>\n",
      "    <th class=\"tg-e3zv\">Q</th>\n",
      "  </tr>\n",
      "  <tr>\n",
      "    <td class=\"tg-031e\">0</td>\n",
      "    <td class=\"tg-031e\">0</td>\n",
      "    <td class=\"tg-031e\">1</td>\n",
      "  </tr>\n",
      "  <tr>\n",
      "    <td class=\"tg-031e\">1</td>\n",
      "    <td class=\"tg-031e\">0</td>\n",
      "    <td class=\"tg-031e\">1</td>\n",
      "  </tr>\n",
      "  <tr>\n",
      "    <td class=\"tg-031e\">0</td>\n",
      "    <td class=\"tg-031e\">1</td>\n",
      "    <td class=\"tg-031e\">1</td>\n",
      "  </tr>\n",
      "  <tr>\n",
      "    <td class=\"tg-031e\">1</td>\n",
      "    <td class=\"tg-031e\">1</td>\n",
      "    <td class=\"tg-031e\">0</td>\n",
      "  </tr>\n",
      "</table>"
     ]
    },
    {
     "cell_type": "code",
     "collapsed": false,
     "input": [
      "antimony = '''\n",
      "model nandgate(A, B, Q)\n",
      "    -> Q; Vmax*(a+A+B)/(a+A^n+B^n+b*A^n*B^n);\n",
      "    Q -> ; gamma_0*Q\n",
      "\n",
      "    gamma_0 = 0.1;\n",
      "    Vmax = 0.1;\n",
      "    n = 4;\n",
      "    Q = 0;\n",
      "    a= 0.0001; b=1000;\n",
      "end\n",
      "'''"
     ],
     "language": "python",
     "metadata": {},
     "outputs": [],
     "prompt_number": 2
    },
    {
     "cell_type": "code",
     "collapsed": false,
     "input": [
      "def test():\n",
      "    from helpers.testing import test_truth_table\n",
      "\n",
      "    input_ids = ['A', 'B']\n",
      "    output_ids = ['Q']\n",
      "    truth_table = [\n",
      "        ([0, 0], [1]),\n",
      "        ([1, 0], [1]),\n",
      "        ([0, 1], [1]),\n",
      "        ([1, 1], [0]),\n",
      "    ]\n",
      "\n",
      "    test_truth_table(antimony, input_ids, output_ids, truth_table)"
     ],
     "language": "python",
     "metadata": {},
     "outputs": [],
     "prompt_number": 9
    }
   ],
   "metadata": {}
  }
 ]
}
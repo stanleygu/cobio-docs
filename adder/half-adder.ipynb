{
 "metadata": {
  "signature": "sha256:d5b06483682f809b0de897725d973d0d6b0efc9935e6fdce315219845a5660e3"
 },
 "nbformat": 3,
 "nbformat_minor": 0,
 "worksheets": [
  {
   "cells": [
    {
     "cell_type": "code",
     "collapsed": false,
     "input": [
      "import notebooktools as nb\n",
      "nb.loadNotebooksAsModules()"
     ],
     "language": "python",
     "metadata": {},
     "outputs": [],
     "prompt_number": 1
    },
    {
     "cell_type": "code",
     "collapsed": false,
     "input": [
      "import xorgate\n",
      "import andgate"
     ],
     "language": "python",
     "metadata": {},
     "outputs": []
    },
    {
     "cell_type": "code",
     "collapsed": false,
     "input": [
      "halfadder = xorgate.antimony + andgate.antimony + '''\n",
      "\n",
      "model halfadder(A, B, S, C)\n",
      "    xgate: xorgate(A, B, S);\n",
      "    agate: andgate(A, B, C);\n",
      "end\n",
      "'''"
     ],
     "language": "python",
     "metadata": {},
     "outputs": [],
     "prompt_number": 3
    },
    {
     "cell_type": "code",
     "collapsed": false,
     "input": [
      "def test():\n",
      "    \n",
      "    testmodel = halfadder + '''\n",
      "    model test\n",
      "        a: halfadder(S1, S2, S, C);\n",
      "\n",
      "        at (time < 100):               S1 = 0, S2 = 0   // S=0, C=0\n",
      "        at (time > 100 && time < 201): S1 = 0.8, S2 = 0 // S=1, C=0\n",
      "        at (time > 200 && time < 301): S1 = 0, S2 = 1   // S=1, C=0\n",
      "        at (time > 300 && time < 401): S1 = 1, S2 = 1   // S=0, C=1\n",
      "    end\n",
      "    '''\n",
      "    \n",
      "    import tellurium as te\n",
      "    r = te.loada(testmodel)\n",
      "    sim = r.simulate(0, 400, 1000)\n",
      "    te.plotWithLegend(r, sim)"
     ],
     "language": "python",
     "metadata": {},
     "outputs": [],
     "prompt_number": 4
    },
    {
     "cell_type": "code",
     "collapsed": false,
     "input": [
      "test()"
     ],
     "language": "python",
     "metadata": {},
     "outputs": [
      {
       "metadata": {},
       "output_type": "display_data",
       "png": "[encoded data removed]",
       "text": [
        "<matplotlib.figure.Figure at 0x3c64ed0>"
       ]
      }
     ],
     "prompt_number": 5
    }
   ],
   "metadata": {}
  }
 ]
}
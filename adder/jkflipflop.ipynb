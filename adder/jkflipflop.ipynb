{
 "metadata": {
  "signature": "sha256:bcb3645ff2f4f488d8509dd7d2480793ba4156bd9cd917758c5db30a1f103b5d"
 },
 "nbformat": 3,
 "nbformat_minor": 0,
 "worksheets": [
  {
   "cells": [
    {
     "cell_type": "markdown",
     "metadata": {},
     "source": [
      "![jkflipflop](http://hyperphysics.phy-astr.gsu.edu/hbase/electronic/ietron/jk2.gif)\n",
      "![](http://hyperphysics.phy-astr.gsu.edu/hbase/electronic/ietron/jk3.gif)"
     ]
    },
    {
     "cell_type": "code",
     "collapsed": false,
     "input": [
      "import notebooktools as nb\n",
      "nb.loadNotebooksAsModules()"
     ],
     "language": "python",
     "metadata": {},
     "outputs": [],
     "prompt_number": 84
    },
    {
     "cell_type": "code",
     "collapsed": false,
     "input": [
      "import threeNand\n",
      "import clock"
     ],
     "language": "python",
     "metadata": {},
     "outputs": [],
     "prompt_number": 85
    },
    {
     "cell_type": "code",
     "collapsed": false,
     "input": [
      "antimony = threeNand.antimony + '''\n",
      "model jkflipflop(J, C, K, Q, Qbar)\n",
      "    threeNand1: threeNand(Qbar, J, C, X1)\n",
      "    threeNand2: threeNand(C, K, Q, X2)\n",
      "    nandgate1: nandgate(X1, Qbar, Q)\n",
      "    nandgate2: nandgate(Q, X2, Qbar)\n",
      "end\n",
      "'''"
     ],
     "language": "python",
     "metadata": {},
     "outputs": [],
     "prompt_number": 86
    },
    {
     "cell_type": "code",
     "collapsed": false,
     "input": [
      "def test():\n",
      "    import tellurium as te\n",
      "    \n",
      "    testmodel = clock.antimony + antimony + '''\n",
      "    model testmodel()\n",
      "        c: clock()\n",
      "        jkff: jkflipflop(J, c.signal, K, Q, Qbar)\n",
      "        \n",
      "        at time>300: K = 1;\n",
      "        at time>350: K = 0;\n",
      "        at time>500: K = 1;\n",
      "        at time>550: K = 0;\n",
      "        at time>700: J = 1, K = 1;\n",
      "        at time>750: J = 0, K = 0;\n",
      "        at time>900: J = 1, K = 1;\n",
      "        at time>950: J = 0, K = 0;\n",
      "        \n",
      "    end\n",
      "    '''\n",
      "    r = te.loada(testmodel)\n",
      "    sim = r.simulate(0, 1500, 1500, ['time', 'Q', 'Qbar', 'J', 'K'])\n",
      "    te.plotWithLegend(r, sim)"
     ],
     "language": "python",
     "metadata": {},
     "outputs": [],
     "prompt_number": 87
    }
   ],
   "metadata": {}
  }
 ]
}
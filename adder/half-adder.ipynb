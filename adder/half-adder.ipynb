{
 "metadata": {
  "signature": "sha256:1cade58c76e318bf86f4b68f92a58c56a071bbca76d2793828788b739ae75f6a"
 },
 "nbformat": 3,
 "nbformat_minor": 0,
 "worksheets": [
  {
   "cells": [
    {
     "cell_type": "markdown",
     "metadata": {},
     "source": [
      "![halfadder](http://upload.wikimedia.org/wikipedia/commons/d/d9/Half_Adder.svg)\n",
      "\n",
      "<table class=\"wikitable\" style=\"text-align:center\">\n",
      "<tbody><tr>\n",
      "<th colspan=\"2\">Inputs</th>\n",
      "<th colspan=\"2\">Outputs</th>\n",
      "</tr>\n",
      "<tr>\n",
      "<th><i>A</i></th>\n",
      "<th><i>B</i></th>\n",
      "<th><i>C</i></th>\n",
      "<th><i>S</i></th>\n",
      "</tr>\n",
      "<tr>\n",
      "<td>0</td>\n",
      "<td>0</td>\n",
      "<td>0</td>\n",
      "<td>0</td>\n",
      "</tr>\n",
      "<tr>\n",
      "<td>1</td>\n",
      "<td>0</td>\n",
      "<td>0</td>\n",
      "<td>1</td>\n",
      "</tr>\n",
      "<tr>\n",
      "<td>0</td>\n",
      "<td>1</td>\n",
      "<td>0</td>\n",
      "<td>1</td>\n",
      "</tr>\n",
      "<tr>\n",
      "<td>1</td>\n",
      "<td>1</td>\n",
      "<td>1</td>\n",
      "<td>0</td>\n",
      "</tr>\n",
      "</tbody></table>"
     ]
    },
    {
     "cell_type": "code",
     "collapsed": false,
     "input": [
      "from tellurium.notebooktools import loadNotebooksAsModules\n",
      "loadNotebooksAsModules()"
     ],
     "language": "python",
     "metadata": {},
     "outputs": [],
     "prompt_number": 1
    },
    {
     "cell_type": "code",
     "collapsed": false,
     "input": [
      "import xorgate\n",
      "import andgate"
     ],
     "language": "python",
     "metadata": {},
     "outputs": [
      {
       "output_type": "stream",
       "stream": "stdout",
       "text": [
        "importing IPython notebook from xorgate.ipynb\n",
        "importing IPython notebook from andgate.ipynb\n"
       ]
      }
     ],
     "prompt_number": 2
    },
    {
     "cell_type": "code",
     "collapsed": false,
     "input": [
      "antimony = xorgate.antimony + andgate.antimony + '''\n",
      "\n",
      "model halfadder(A, B, S, C)\n",
      "    xgate: xorgate(A, B, S);\n",
      "    agate: andgate(A, B, C);\n",
      "end\n",
      "'''"
     ],
     "language": "python",
     "metadata": {},
     "outputs": [],
     "prompt_number": 3
    },
    {
     "cell_type": "code",
     "collapsed": false,
     "input": [
      "def test(model=None, plot=False):\n",
      "    '''Test the behavior of the half adder\n",
      "    \n",
      "    input:\n",
      "    model - antimony string of modified model (default uses unmodified model)\n",
      "    plot - boolean to show plot of test simulation (default is False)\n",
      "    '''\n",
      "    if model is None:\n",
      "        model = antimony\n",
      "    \n",
      "    testmodel = model + '''\n",
      "    model test\n",
      "        a: halfadder(S1, S2, S, C);\n",
      "\n",
      "        at (time < 100): S1 = 0, S2 = 0   // S=0, C=0\n",
      "        at (time > 100): S1 = 0.8, S2 = 0 // S=1, C=0\n",
      "        at (time > 200): S1 = 0, S2 = 1   // S=1, C=0\n",
      "        at (time > 300): S1 = 1, S2 = 1   // S=0, C=1\n",
      "    end\n",
      "    '''\n",
      "    \n",
      "    import tellurium as te\n",
      "    r = te.loada(testmodel)\n",
      "    sim = r.simulate(0, 400, 400)\n",
      "    if plot:\n",
      "        te.plotWithLegend(r, sim)\n",
      "    \n",
      "    assert sim[50][1] == 0 and sim[50][2] == 0, \\\n",
      "    'Sum and carry should both low when both inputs are low'\n",
      "    assert sim[150][1] > 0.95 and sim[150][2] < 0.05, \\\n",
      "    'Sum should be high and carry should be low when only first input is high'\n",
      "    assert sim[250][1] > 0.95 and sim[250][2] < 0.05, \\\n",
      "    'Sum should be high and carry should be low when only second input is high'\n",
      "    assert sim[350][1] < 0.05 and sim[350][2] > 0.95, \\\n",
      "    'Sum should be low and carry should be high when both inputs are high'"
     ],
     "language": "python",
     "metadata": {},
     "outputs": [],
     "prompt_number": 4
    },
    {
     "cell_type": "code",
     "collapsed": false,
     "input": [
      "test(plot=True)"
     ],
     "language": "python",
     "metadata": {},
     "outputs": [
      {
       "metadata": {},
       "output_type": "display_data",
       "png": "[encoded data removed]",
       "text": [
        "<matplotlib.figure.Figure at 0x2f04290>"
       ]
      }
     ],
     "prompt_number": 5
    }
   ],
   "metadata": {}
  }
 ]
}
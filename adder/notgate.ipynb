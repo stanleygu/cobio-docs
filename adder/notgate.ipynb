{
 "metadata": {
  "name": "",
  "signature": "sha256:f29767e8b9e8e9199b7ae0b3f46e5c4efd7fd5898916cbaa903c9ca544a7698a"
 },
 "nbformat": 3,
 "nbformat_minor": 0,
 "worksheets": [
  {
   "cells": [
    {
     "cell_type": "code",
     "collapsed": false,
     "input": [
      "antimony = '''\n",
      "model notgate(A, Q)\n",
      "    -> Q; Vmax*(a)/(a+A^n);\n",
      "    Q -> ; gamma_0*Q\n",
      "\n",
      "    gamma_0 = 0.1;\n",
      "    Vmax = 0.1;\n",
      "    n = 4;\n",
      "    Q = 0;\n",
      "    a= 0.0001; b=1000;\n",
      "end\n",
      "'''"
     ],
     "language": "python",
     "metadata": {},
     "outputs": [],
     "prompt_number": 3
    },
    {
     "cell_type": "code",
     "collapsed": false,
     "input": [
      "def test():\n",
      "    import tellurium as te\n",
      "    from helpers.testing import test_truth_table\n",
      "    \n",
      "    testmodel = antimony + '''\n",
      "    model test()\n",
      "        ng: notgate(A, Q)\n",
      "    end\n",
      "    '''\n",
      "    \n",
      "    input_ids = ['A']\n",
      "    output_ids = ['Q']\n",
      "    truth_table = [\n",
      "        ([0], [1]),\n",
      "        ([1], [0])\n",
      "    ]\n",
      "\n",
      "    r, sims = test_truth_table(antimony,\n",
      "                               input_ids,\n",
      "                               output_ids,\n",
      "                               truth_table)\n",
      "\n",
      "    # Concatenate simulations\n",
      "    for i, sim in enumerate(sims):\n",
      "        if i == 0:\n",
      "            continue\n",
      "        lastTime = sims[i-1][-1, 0]\n",
      "        sim[:,0] += lastTime\n",
      "    import numpy as np\n",
      "    import tellurium as te\n",
      "    te.plotWithLegend(r, np.vstack(sims))"
     ],
     "language": "python",
     "metadata": {},
     "outputs": [
      {
       "output_type": "stream",
       "stream": "stdout",
       "text": [
        "When A:0 then Q:1 ; Found Q = 0.999949\n",
        "When A:1 then Q:0 ; Found Q = 0.000150\n"
       ]
      },
      {
       "metadata": {},
       "output_type": "display_data",
       "png": "[encoded data removed]",
       "text": [
        "<matplotlib.figure.Figure at 0x316cf90>"
       ]
      }
     ],
     "prompt_number": 8
    }
   ],
   "metadata": {}
  }
 ]
}
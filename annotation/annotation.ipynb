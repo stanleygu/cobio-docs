{
 "metadata": {
  "signature": "sha256:109d485f14bb6304275af9c254028e26e2d21f75d1a1705cac8a548d6ff7eb07"
 },
 "nbformat": 3,
 "nbformat_minor": 0,
 "worksheets": [
  {
   "cells": [
    {
     "cell_type": "code",
     "collapsed": false,
     "input": [
      "import tellurium as te\n",
      "import libsbml"
     ],
     "language": "python",
     "metadata": {},
     "outputs": [],
     "prompt_number": 1
    },
    {
     "cell_type": "code",
     "collapsed": false,
     "input": [
      "# Model with reaction that I want to annotate with controlled vocabulary terms\n",
      "rr = te.loada('''\n",
      "J1: glu + atp -> g6p + adp; J1_vm*(glu*atp)^J1_n / (J1_kd + (glu*atp)^J1_n);\n",
      "\n",
      "glu = 10; atp = 10;\n",
      "J1_vm = 10; J1_kd = 1; J1_n = 4;\n",
      "''')\n",
      "\n",
      "sim = te.simulateAndPlot(rr, endTime=2)"
     ],
     "language": "python",
     "metadata": {},
     "outputs": [
      {
       "metadata": {},
       "output_type": "display_data",
       "png": "[encoded data removed]",
       "text": [
        "<matplotlib.figure.Figure at 0x2d757d0>"
       ]
      }
     ],
     "prompt_number": 2
    },
    {
     "cell_type": "code",
     "collapsed": false,
     "input": [
      "## Code to interactively find correct resource URIs\n",
      "# import biomodeltoolbox as bmt\n",
      "# bmt.widgets.OntologySearch()"
     ],
     "language": "python",
     "metadata": {},
     "outputs": [],
     "prompt_number": 3
    },
    {
     "cell_type": "code",
     "collapsed": false,
     "input": [
      "# Dictionary containing element IDs and CV resource URIs\n",
      "annotations = {\n",
      "    'glu': (libsbml.BQB_IS, 'http://identifiers.org/chebi/CHEBI:17234'),\n",
      "    'g6p': (libsbml.BQB_IS, 'http://identifiers.org/chebi/CHEBI:17719'),\n",
      "    'J1': (libsbml.BQB_IS, 'http://identifiers.org/kegg.reaction/R00299')\n",
      "}"
     ],
     "language": "python",
     "metadata": {},
     "outputs": [],
     "prompt_number": 14
    },
    {
     "cell_type": "code",
     "collapsed": false,
     "input": [
      "def append_annotations(doc, annotations):\n",
      "    '''Append annotations to an SBML document\n",
      "    \n",
      "    :param doc: the SBML document object\n",
      "    :param annotations: a dictionary containing the element annotations in this form:\n",
      "    \n",
      "    annotations = {\n",
      "        'glu': (libsbml.BQB_IS, 'http://identifiers.org/chebi/CHEBI:17234'),\n",
      "        'g6p': (libsbml.BQB_IS, 'http://identifiers.org/chebi/CHEBI:17719'),\n",
      "        'J1': (libsbml.BQB_IS, 'http://identifiers.org/kegg.reaction/R00299')\n",
      "    }\n",
      "    '''\n",
      "    import libsbml\n",
      "    for elId, annot in annotations.items():\n",
      "        cv = libsbml.CVTerm()\n",
      "        cv.setQualifierType(libsbml.BIOLOGICAL_QUALIFIER)\n",
      "        cv.setBiologicalQualifierType(annot[0])\n",
      "        cv.addResource(annot[1])\n",
      "        el = doc.getElementBySId(elId)\n",
      "        if not el.getMetaId():\n",
      "            el.setMetaId(elId + '_meta') # Add default meta ID\n",
      "        el.addCVTerm(cv)\n",
      "    return cv, el # returning these to inspect/test"
     ],
     "language": "python",
     "metadata": {},
     "outputs": [],
     "prompt_number": 15
    },
    {
     "cell_type": "code",
     "collapsed": false,
     "input": [
      "# Run annotator\n",
      "b = libsbml.readSBMLFromString(rr.getSBML())\n",
      "cv, el = append_annotations(b, annotations)"
     ],
     "language": "python",
     "metadata": {},
     "outputs": [],
     "prompt_number": 16
    },
    {
     "cell_type": "code",
     "collapsed": false,
     "input": [
      "# Inspect annotations, currently don't show up\n",
      "print el.toSBML()"
     ],
     "language": "python",
     "metadata": {},
     "outputs": [
      {
       "output_type": "stream",
       "stream": "stdout",
       "text": [
        "<species metaid=\"glu_meta\" id=\"glu\" compartment=\"default_compartment\" initialConcentration=\"10\" hasOnlySubstanceUnits=\"false\" boundaryCondition=\"false\" constant=\"false\">\n",
        "  <annotation>\n",
        "    <rdf:RDF xmlns:rdf=\"http://www.w3.org/1999/02/22-rdf-syntax-ns#\" xmlns:dc=\"http://purl.org/dc/elements/1.1/\" xmlns:dcterms=\"http://purl.org/dc/terms/\" xmlns:vCard=\"http://www.w3.org/2001/vcard-rdf/3.0#\" xmlns:bqbiol=\"http://biomodels.net/biology-qualifiers/\" xmlns:bqmodel=\"http://biomodels.net/model-qualifiers/\">\n",
        "      <rdf:Description rdf:about=\"#glu_meta\">\n",
        "        <bqbiol:is>\n",
        "          <rdf:Bag>\n",
        "            <rdf:li rdf:resource=\"http://identifiers.org/chebi/CHEBI:17234\"/>\n",
        "          </rdf:Bag>\n",
        "        </bqbiol:is>\n",
        "      </rdf:Description>\n",
        "    </rdf:RDF>\n",
        "  </annotation>\n",
        "</species>\n"
       ]
      }
     ],
     "prompt_number": 17
    },
    {
     "cell_type": "code",
     "collapsed": false,
     "input": [
      "# Trying exmaple from http://sbml.org/Software/libSBML/docs/python-api/append_annotation_8py-example.html\n",
      "d = b\n",
      "n = d.getModel().getNumSpecies();\n",
      "\n",
      "if (n > 0):\n",
      "   s = d.getModel().getSpecies(0);\n",
      "\n",
      "   cvterms_annotation = \"\"\"<annotation>        \n",
      "     <rdf:RDF xmlns:rdf=\"http://www.w3.org/1999/02/22-rdf-syntax-ns#\" xmlns:dc=\"http://purl.org/dc/elements/1.1/\" xmlns:dcterms=\"http://purl.org/dc/terms/\" xmlns:vCard=\"http://www.w3.org/2001/vcard-rdf/3.0#\" xmlns:bqbiol=\"http://biomodels.net/biology-qualifiers/\" xmlns:bqmodel=\"http://biomodels.net/model-qualifiers/\">\n",
      "       <rdf:Description rdf:about=\"#\">\n",
      "         <bqbiol:isVersionOf>\n",
      "           <rdf:Bag>\n",
      "             <rdf:li rdf:resource=\"http://www.geneontology.org/#GO:0005892\"/>\n",
      "             <rdf:li rdf:resource=\"http://www.ebi.ac.uk/interpro/#IPR002394\"/>\n",
      "           </rdf:Bag>\n",
      "         </bqbiol:isVersionOf>\n",
      "         <bqbiol:is>\n",
      "           <rdf:Bag>\n",
      "             <rdf:li rdf:resource=\"http://www.geneontology.org/#GO:0005895\"/>\n",
      "           </rdf:Bag>\n",
      "         </bqbiol:is>\n",
      "       </rdf:Description>\n",
      "     </rdf:RDF>\n",
      "   </annotation>\n",
      "   \"\"\"\n",
      "\n",
      "   s.appendAnnotation(cvterms_annotation);"
     ],
     "language": "python",
     "metadata": {},
     "outputs": [],
     "prompt_number": 9
    },
    {
     "cell_type": "code",
     "collapsed": false,
     "input": [
      "# Still does not seem to work\n",
      "print d.toSBML()"
     ],
     "language": "python",
     "metadata": {},
     "outputs": [
      {
       "output_type": "stream",
       "stream": "stdout",
       "text": [
        "<sbml xmlns=\"http://www.sbml.org/sbml/level3/version1/core\" level=\"3\" version=\"1\">\n",
        "  <model id=\"__main\" name=\"__main\">\n",
        "    <listOfCompartments>\n",
        "      <compartment sboTerm=\"SBO:0000410\" id=\"default_compartment\" spatialDimensions=\"3\" size=\"1\" constant=\"true\"/>\n",
        "    </listOfCompartments>\n",
        "    <listOfSpecies>\n",
        "      <species id=\"glu\" compartment=\"default_compartment\" initialConcentration=\"10\" hasOnlySubstanceUnits=\"false\" boundaryCondition=\"false\" constant=\"false\"/>\n",
        "      <species id=\"atp\" compartment=\"default_compartment\" initialConcentration=\"10\" hasOnlySubstanceUnits=\"false\" boundaryCondition=\"false\" constant=\"false\"/>\n",
        "      <species id=\"g6p\" compartment=\"default_compartment\" hasOnlySubstanceUnits=\"false\" boundaryCondition=\"false\" constant=\"false\"/>\n",
        "      <species id=\"adp\" compartment=\"default_compartment\" hasOnlySubstanceUnits=\"false\" boundaryCondition=\"false\" constant=\"false\"/>\n",
        "    </listOfSpecies>\n",
        "    <listOfParameters>\n",
        "      <parameter id=\"J1_vm\" value=\"10\" constant=\"true\"/>\n",
        "      <parameter id=\"J1_n\" value=\"4\" constant=\"true\"/>\n",
        "      <parameter id=\"J1_kd\" value=\"1\" constant=\"true\"/>\n",
        "    </listOfParameters>\n",
        "    <listOfReactions>\n",
        "      <reaction id=\"J1\" reversible=\"true\" fast=\"false\">\n",
        "        <listOfReactants>\n",
        "          <speciesReference species=\"glu\" stoichiometry=\"1\" constant=\"true\"/>\n",
        "          <speciesReference species=\"atp\" stoichiometry=\"1\" constant=\"true\"/>\n",
        "        </listOfReactants>\n",
        "        <listOfProducts>\n",
        "          <speciesReference species=\"g6p\" stoichiometry=\"1\" constant=\"true\"/>\n",
        "          <speciesReference species=\"adp\" stoichiometry=\"1\" constant=\"true\"/>\n",
        "        </listOfProducts>\n",
        "        <kineticLaw>\n",
        "          <math xmlns=\"http://www.w3.org/1998/Math/MathML\">\n",
        "            <apply>\n",
        "              <divide/>\n",
        "              <apply>\n",
        "                <times/>\n",
        "                <ci> J1_vm </ci>\n",
        "                <apply>\n",
        "                  <power/>\n",
        "                  <apply>\n",
        "                    <times/>\n",
        "                    <ci> glu </ci>\n",
        "                    <ci> atp </ci>\n",
        "                  </apply>\n",
        "                  <ci> J1_n </ci>\n",
        "                </apply>\n",
        "              </apply>\n",
        "              <apply>\n",
        "                <plus/>\n",
        "                <ci> J1_kd </ci>\n",
        "                <apply>\n",
        "                  <power/>\n",
        "                  <apply>\n",
        "                    <times/>\n",
        "                    <ci> glu </ci>\n",
        "                    <ci> atp </ci>\n",
        "                  </apply>\n",
        "                  <ci> J1_n </ci>\n",
        "                </apply>\n",
        "              </apply>\n",
        "            </apply>\n",
        "          </math>\n",
        "        </kineticLaw>\n",
        "      </reaction>\n",
        "    </listOfReactions>\n",
        "  </model>\n",
        "</sbml>\n"
       ]
      }
     ],
     "prompt_number": 10
    },
    {
     "cell_type": "code",
     "collapsed": false,
     "input": [
      "libsbml.getLibSBMLDottedVersion()"
     ],
     "language": "python",
     "metadata": {},
     "outputs": [
      {
       "metadata": {},
       "output_type": "pyout",
       "prompt_number": 13,
       "text": [
        "'5.10.0'"
       ]
      }
     ],
     "prompt_number": 13
    }
   ],
   "metadata": {}
  }
 ]
}
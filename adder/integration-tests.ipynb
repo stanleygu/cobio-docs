{
 "metadata": {
  "signature": "sha256:e3a6ec1e99086f8c09b71b7661ca1257ed08c5ded3b577d3eb4765b473c44b35"
 },
 "nbformat": 3,
 "nbformat_minor": 0,
 "worksheets": [
  {
   "cells": [
    {
     "cell_type": "code",
     "collapsed": false,
     "input": [
      "import notebooktools as nb\n",
      "nb.loadNotebooksAsModules()"
     ],
     "language": "python",
     "metadata": {},
     "outputs": [],
     "prompt_number": 4
    },
    {
     "cell_type": "code",
     "collapsed": false,
     "input": [
      "halfadder = __import__('half-adder')"
     ],
     "language": "python",
     "metadata": {},
     "outputs": [],
     "prompt_number": 5
    },
    {
     "cell_type": "markdown",
     "metadata": {},
     "source": [
      "<style type=\"text/css\">\n",
      ".tg  {border-collapse:collapse;border-spacing:0;}\n",
      ".tg td{font-family:Arial, sans-serif;font-size:14px;padding:10px 5px;border-style:solid;border-width:1px;overflow:hidden;word-break:normal;}\n",
      ".tg th{font-family:Arial, sans-serif;font-size:14px;font-weight:normal;padding:10px 5px;border-style:solid;border-width:1px;overflow:hidden;word-break:normal;}\n",
      ".tg .tg-e3zv{font-weight:bold}\n",
      ".tg .tg-hgcj{font-weight:bold;text-align:center}\n",
      "</style>\n",
      "<table class=\"tg\">\n",
      "  <tr>\n",
      "    <th class=\"tg-e3zv\" colspan=\"2\">Input</th>\n",
      "    <th class=\"tg-hgcj\" colspan=\"2\">Adder Output<br>XOR Input </th>\n",
      "    <th class=\"tg-hgcj\">XOR<br>Output</th>\n",
      "  </tr>\n",
      "  <tr>\n",
      "    <td class=\"tg-e3zv\">A</td>\n",
      "    <td class=\"tg-e3zv\">B</td>\n",
      "    <td class=\"tg-e3zv\">S</td>\n",
      "    <td class=\"tg-031e\">C</td>\n",
      "    <td class=\"tg-031e\">Q<br></td>\n",
      "  </tr>\n",
      "  <tr>\n",
      "    <td class=\"tg-031e\">0</td>\n",
      "    <td class=\"tg-031e\">0</td>\n",
      "    <td class=\"tg-031e\">0</td>\n",
      "    <td class=\"tg-031e\">0</td>\n",
      "    <td class=\"tg-031e\">0</td>\n",
      "  </tr>\n",
      "  <tr>\n",
      "    <td class=\"tg-031e\">1</td>\n",
      "    <td class=\"tg-031e\">0</td>\n",
      "    <td class=\"tg-031e\">1</td>\n",
      "    <td class=\"tg-031e\">0</td>\n",
      "    <td class=\"tg-031e\">1</td>\n",
      "  </tr>\n",
      "  <tr>\n",
      "    <td class=\"tg-031e\">0</td>\n",
      "    <td class=\"tg-031e\">1</td>\n",
      "    <td class=\"tg-031e\">1</td>\n",
      "    <td class=\"tg-031e\">0</td>\n",
      "    <td class=\"tg-031e\">1</td>\n",
      "  </tr>\n",
      "  <tr>\n",
      "    <td class=\"tg-031e\">1</td>\n",
      "    <td class=\"tg-031e\">1</td>\n",
      "    <td class=\"tg-031e\">0</td>\n",
      "    <td class=\"tg-031e\">1</td>\n",
      "    <td class=\"tg-031e\">1</td>\n",
      "  </tr>\n",
      "</table>"
     ]
    },
    {
     "cell_type": "code",
     "collapsed": false,
     "input": [
      "def test():\n",
      "    testmodel = halfadder.antimony + '''\n",
      "model test\n",
      "    a: halfadder(S1, S2, aS, aC);\n",
      "    b: xorgate(A, B, S);\n",
      "\n",
      "    //We want the input of b (_A and _B) to be the output of a (aS and aC), after a delay\n",
      "    at 100 after (A != aS), fromTrigger=false: A = aS\n",
      "    at 100 after (B != aC), fromTrigger=false: B = aC\n",
      "\n",
      "    //Three different test states:\n",
      "    at (time > 0):            S1 = 0,   S2 = 0\n",
      "    at (time > 100):          S1 = 1,   S2 = 0\n",
      "    at (time > 300):          S1 = 0,   S2 = 1\n",
      "    at (time > 500):          S1 = 1,   S2 = 1\n",
      "\n",
      "end\n",
      "    '''\n",
      "\n",
      "    import tellurium as te\n",
      "    import numpy as np\n",
      "    import matplotlib.pyplot as plt\n",
      "    \n",
      "    r = te.loada(testmodel)\n",
      "    \n",
      "    sim = r.simulate(0, 800, 800, ['time', 'S', 'A', 'B'])\n",
      "    \n",
      "    # Let's double check what the sum of the XOR input signal is\n",
      "    plt.plot(sim[0:, 0], sim[0:, 2] + sim[0:, 3])\n",
      "    plt.show()\n",
      "    te.plotWithLegend(r, sim)\n",
      "\n",
      "    # Assertions for the input signal to the XOR gate\n",
      "    assert sim[100][2] < 0.05 and sim [100][3] < 0.05,\\\n",
      "    'Half-adder output should be low when both inputs low'\n",
      "    assert sim[300][2] > 0.95 and sim [300][3] < 0.05,\\\n",
      "    'Half-adder S should be high when only first input is high'\n",
      "    assert sim[500][2] > 0.95 and sim [500][3] < 0.05,\\\n",
      "    'Half-adder S should be high when only first input is high'\n",
      "    assert sim[700][2] < 0.05 and sim [700][3] > 0.95,\\\n",
      "    'Half-adder C should be high when both inputs are high'\n",
      "    \n",
      "    # Assertions the output signal\n",
      "    assert sim[100][1] == 0,\\\n",
      "    'XOR should be low when both inputs are low'\n",
      "    assert sim[300][1] > 0.95,\\\n",
      "    'XOR should be high when only first input is high'\n",
      "    assert sim[500][1] > 0.95,\\\n",
      "    'XOR should be high when only second input is high'\n",
      "    assert sim[700][1] < 0.05,\\\n",
      "    'XOR should be low when both inputs are high'\n",
      "    \n",
      "    return sim"
     ],
     "language": "python",
     "metadata": {},
     "outputs": [],
     "prompt_number": 6
    },
    {
     "cell_type": "code",
     "collapsed": false,
     "input": [
      "result = test()"
     ],
     "language": "python",
     "metadata": {},
     "outputs": [
      {
       "metadata": {},
       "output_type": "display_data",
       "png": "[encoded data removed]",
       "text": [
        "<matplotlib.figure.Figure at 0x3593910>"
       ]
      },
      {
       "metadata": {},
       "output_type": "display_data",
       "png": "[encoded data removed]",
       "text": [
        "<matplotlib.figure.Figure at 0x359ef90>"
       ]
      },
      {
       "ename": "AssertionError",
       "evalue": "XOR should be low when both inputs are high",
       "output_type": "pyerr",
       "traceback": [
        "\u001b[1;31m---------------------------------------------------------------------------\u001b[0m\n\u001b[1;31mAssertionError\u001b[0m                            Traceback (most recent call last)",
        "\u001b[1;32m<ipython-input-7-a0a4c119ed0a>\u001b[0m in \u001b[0;36m<module>\u001b[1;34m()\u001b[0m\n\u001b[1;32m----> 1\u001b[1;33m \u001b[0mresult\u001b[0m \u001b[1;33m=\u001b[0m \u001b[0mtest\u001b[0m\u001b[1;33m(\u001b[0m\u001b[1;33m)\u001b[0m\u001b[1;33m\u001b[0m\u001b[0m\n\u001b[0m",
        "\u001b[1;32m<ipython-input-6-3ed656a16a8b>\u001b[0m in \u001b[0;36mtest\u001b[1;34m()\u001b[0m\n\u001b[0;32m     41\u001b[0m     \u001b[1;32massert\u001b[0m \u001b[0msim\u001b[0m\u001b[1;33m[\u001b[0m\u001b[1;36m300\u001b[0m\u001b[1;33m]\u001b[0m\u001b[1;33m[\u001b[0m\u001b[1;36m1\u001b[0m\u001b[1;33m]\u001b[0m \u001b[1;33m>\u001b[0m \u001b[1;36m0.95\u001b[0m\u001b[1;33m,\u001b[0m    \u001b[1;34m'XOR should be high when only first input is high'\u001b[0m\u001b[1;33m\u001b[0m\u001b[0m\n\u001b[0;32m     42\u001b[0m     \u001b[1;32massert\u001b[0m \u001b[0msim\u001b[0m\u001b[1;33m[\u001b[0m\u001b[1;36m500\u001b[0m\u001b[1;33m]\u001b[0m\u001b[1;33m[\u001b[0m\u001b[1;36m1\u001b[0m\u001b[1;33m]\u001b[0m \u001b[1;33m>\u001b[0m \u001b[1;36m0.95\u001b[0m\u001b[1;33m,\u001b[0m    \u001b[1;34m'XOR should be high when only second input is high'\u001b[0m\u001b[1;33m\u001b[0m\u001b[0m\n\u001b[1;32m---> 43\u001b[1;33m     \u001b[1;32massert\u001b[0m \u001b[0msim\u001b[0m\u001b[1;33m[\u001b[0m\u001b[1;36m700\u001b[0m\u001b[1;33m]\u001b[0m\u001b[1;33m[\u001b[0m\u001b[1;36m1\u001b[0m\u001b[1;33m]\u001b[0m \u001b[1;33m<\u001b[0m \u001b[1;36m0.05\u001b[0m\u001b[1;33m,\u001b[0m    \u001b[1;34m'XOR should be low when both inputs are high'\u001b[0m\u001b[1;33m\u001b[0m\u001b[0m\n\u001b[0m\u001b[0;32m     44\u001b[0m \u001b[1;33m\u001b[0m\u001b[0m\n\u001b[0;32m     45\u001b[0m     \u001b[1;32mreturn\u001b[0m \u001b[0msim\u001b[0m\u001b[1;33m\u001b[0m\u001b[0m\n",
        "\u001b[1;31mAssertionError\u001b[0m: XOR should be low when both inputs are high"
       ]
      }
     ],
     "prompt_number": 7
    }
   ],
   "metadata": {}
  }
 ]
}
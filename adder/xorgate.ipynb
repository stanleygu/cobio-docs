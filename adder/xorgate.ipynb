{
 "metadata": {
  "signature": "sha256:16f6ccb86f317c13ce7152eb10bfdcbcaf84246da3fba0f00b8f91e6b9d6be50"
 },
 "nbformat": 3,
 "nbformat_minor": 0,
 "worksheets": [
  {
   "cells": [
    {
     "cell_type": "code",
     "collapsed": false,
     "input": [
      "antimony = '''\n",
      "model xorgate(S1, S2, Y)\n",
      "    -> Y; Vmax*(S1 + S2)/(a+S1+S2+b*S1*S2); // S1 XOR S2\n",
      "    Y -> ; gamma_0*Y\n",
      "\n",
      "    gamma_0 = 0.1;\n",
      "    Vmax = 0.1;\n",
      "    Y = 0;\n",
      "    a= 0.0001; b=1000;\n",
      "end\n",
      "'''"
     ],
     "language": "python",
     "metadata": {},
     "outputs": [],
     "prompt_number": 1
    },
    {
     "cell_type": "code",
     "collapsed": false,
     "input": [
      "def test(model=None, plot=False):\n",
      "    '''Test the behavior of the xorgate\n",
      "    \n",
      "    input:\n",
      "    model - antimony string of modified model (default uses unmodified model)\n",
      "    plot - boolean in (default is False)\n",
      "    '''\n",
      "    if model is None:\n",
      "        model = antimony \n",
      "    test = model + '''\n",
      "    model test\n",
      "        x: xorgate(S1, S2, Y);\n",
      "        \n",
      "        at (time > 100): S1 = 0, S2 = 1 // Y=1\n",
      "        at (time > 200): S1 = 1, S2 = 0 // Y=1\n",
      "        at (time > 300): S1 = 1, S2 = 1 // Y=0\n",
      "    end\n",
      "    '''\n",
      "    \n",
      "    import tellurium as te\n",
      "    r = te.loada(test)\n",
      "    sim = r.simulate(0, 400, 400)\n",
      "    if plot:\n",
      "        te.plotWithLegend(r, sim)\n",
      "    \n",
      "    assert sim[50][1] == 0,    'Should be low when both inputs are low'\n",
      "    assert sim[150][1] > 0.95, 'Should be high when only first input is high'\n",
      "    assert sim[250][1] > 0.95, 'Should be high when only second input is high'\n",
      "    assert sim[350][1] < 0.05, 'Should be low when both inputs are high'"
     ],
     "language": "python",
     "metadata": {},
     "outputs": [],
     "prompt_number": 8
    }
   ],
   "metadata": {}
  }
 ]
}
{
 "metadata": {
  "signature": "sha256:1a8e2f9d7fc5cf4ce8054fbc393d3be4766e22be6ec676ad91c949849f820c24"
 },
 "nbformat": 3,
 "nbformat_minor": 0,
 "worksheets": [
  {
   "cells": [
    {
     "cell_type": "code",
     "collapsed": false,
     "input": [
      "import notebooktools as nb\n",
      "nb.loadNotebooksAsModules()"
     ],
     "language": "python",
     "metadata": {},
     "outputs": [],
     "prompt_number": 5
    },
    {
     "cell_type": "code",
     "collapsed": false,
     "input": [
      "halfadder = __import__('half-adder')"
     ],
     "language": "python",
     "metadata": {},
     "outputs": [],
     "prompt_number": 6
    },
    {
     "cell_type": "markdown",
     "metadata": {},
     "source": [
      "<style type=\"text/css\">\n",
      ".tg  {border-collapse:collapse;border-spacing:0;}\n",
      ".tg td{font-family:Arial, sans-serif;font-size:14px;padding:10px 5px;border-style:solid;border-width:1px;overflow:hidden;word-break:normal;}\n",
      ".tg th{font-family:Arial, sans-serif;font-size:14px;font-weight:normal;padding:10px 5px;border-style:solid;border-width:1px;overflow:hidden;word-break:normal;}\n",
      ".tg .tg-e3zv{font-weight:bold}\n",
      ".tg .tg-hgcj{font-weight:bold;text-align:center}\n",
      "</style>\n",
      "<table class=\"tg\">\n",
      "  <tr>\n",
      "    <th class=\"tg-e3zv\" colspan=\"2\">Input</th>\n",
      "    <th class=\"tg-hgcj\" colspan=\"2\">Adder Output<br>XOR Input </th>\n",
      "    <th class=\"tg-hgcj\">XOR<br>Output</th>\n",
      "  </tr>\n",
      "  <tr>\n",
      "    <td class=\"tg-e3zv\">A</td>\n",
      "    <td class=\"tg-e3zv\">B</td>\n",
      "    <td class=\"tg-e3zv\">S</td>\n",
      "    <td class=\"tg-031e\">C</td>\n",
      "    <td class=\"tg-031e\">Q<br></td>\n",
      "  </tr>\n",
      "  <tr>\n",
      "    <td class=\"tg-031e\">0</td>\n",
      "    <td class=\"tg-031e\">0</td>\n",
      "    <td class=\"tg-031e\">0</td>\n",
      "    <td class=\"tg-031e\">0</td>\n",
      "    <td class=\"tg-031e\">0</td>\n",
      "  </tr>\n",
      "  <tr>\n",
      "    <td class=\"tg-031e\">1</td>\n",
      "    <td class=\"tg-031e\">0</td>\n",
      "    <td class=\"tg-031e\">1</td>\n",
      "    <td class=\"tg-031e\">0</td>\n",
      "    <td class=\"tg-031e\">1</td>\n",
      "  </tr>\n",
      "  <tr>\n",
      "    <td class=\"tg-031e\">0</td>\n",
      "    <td class=\"tg-031e\">1</td>\n",
      "    <td class=\"tg-031e\">1</td>\n",
      "    <td class=\"tg-031e\">0</td>\n",
      "    <td class=\"tg-031e\">1</td>\n",
      "  </tr>\n",
      "  <tr>\n",
      "    <td class=\"tg-031e\">1</td>\n",
      "    <td class=\"tg-031e\">1</td>\n",
      "    <td class=\"tg-031e\">0</td>\n",
      "    <td class=\"tg-031e\">1</td>\n",
      "    <td class=\"tg-031e\">1</td>\n",
      "  </tr>\n",
      "</table>"
     ]
    },
    {
     "cell_type": "code",
     "collapsed": false,
     "input": [
      "def test():\n",
      "    testmodel = halfadder.antimony + '''\n",
      "model test\n",
      "    #a: halfadder(S1, S2, aS, aC);\n",
      "    a: halfadder(S1, S2, A, B);\n",
      "    b: xorgate(A, B, S);\n",
      "\n",
      "    //We want the input of b (_A and _B) to be the output of a (aS and aC), after a delay\n",
      "    #at 100 after (A != aS), fromTrigger=false: A = aS\n",
      "    #at 100 after (B != aC), fromTrigger=false: B = aC\n",
      "\n",
      "    //Three different test states:\n",
      "    at (time > 0):            S1 = 0,   S2 = 0\n",
      "    at (time > 100):          S1 = 1,   S2 = 0\n",
      "    at (time > 200):          S1 = 0,   S2 = 1\n",
      "    at (time > 300):          S1 = 1,   S2 = 1\n",
      "\n",
      "end\n",
      "    '''\n",
      "\n",
      "    import tellurium as te\n",
      "    import numpy as np\n",
      "    import matplotlib.pyplot as plt\n",
      "    \n",
      "    r = te.loada(testmodel)\n",
      "    \n",
      "    sim = r.simulate(0, 400, 400, ['time', 'S', 'A', 'B', 'b_J0', 'b_J1'])\n",
      "    \n",
      "    # Let's double check what the sum of the XOR input signal is\n",
      "    plt.plot(sim[0:, 0], sim[0:, 2] + sim[0:, 3])\n",
      "    plt.show()\n",
      "    te.plotWithLegend(r, sim)\n",
      "\n",
      "    # Assertions for the input signal to the XOR gate\n",
      "    assert sim[99][2] < 0.05 and sim [99][3] < 0.05,\\\n",
      "    'Half-adder output should be low when both inputs low'\n",
      "    assert sim[199][2] > 0.95 and sim [199][3] < 0.05,\\\n",
      "    'Half-adder S should be high when only first input is high'\n",
      "    assert sim[299][2] > 0.95 and sim [299][3] < 0.05,\\\n",
      "    'Half-adder S should be high when only first input is high'\n",
      "    assert sim[399][2] < 0.05 and sim [399][3] > 0.95,\\\n",
      "    'Half-adder C should be high when both inputs are high'\n",
      "    \n",
      "    # Assertions the output signal\n",
      "    assert sim[99][1] == 0,\\\n",
      "    'XOR should be low when both inputs are low'\n",
      "    assert sim[199][1] > 0.95,\\\n",
      "    'XOR should be high when only first input is high'\n",
      "    assert sim[299][1] > 0.95,\\\n",
      "    'XOR should be high when only second input is high'\n",
      "    assert sim[399][1] > 0.95,\\\n",
      "    'XOR should be low when both inputs are high'\n",
      "    \n"
     ],
     "language": "python",
     "metadata": {},
     "outputs": [],
     "prompt_number": 27
    },
    {
     "cell_type": "code",
     "collapsed": false,
     "input": [
      "result = test()"
     ],
     "language": "python",
     "metadata": {},
     "outputs": [
      {
       "metadata": {},
       "output_type": "display_data",
       "png": "[encoded data removed]",
       "text": [
        "<matplotlib.figure.Figure at 0x2c75b90>"
       ]
      },
      {
       "metadata": {},
       "output_type": "display_data",
       "png": "[encoded data removed]",
       "text": [
        "<matplotlib.figure.Figure at 0x2c77d50>"
       ]
      }
     ],
     "prompt_number": 28
    }
   ],
   "metadata": {}
  }
 ]
}
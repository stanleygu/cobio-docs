{
 "metadata": {
  "signature": "sha256:8d73e5fa46b5241efc63e659baba3736e9a32ae1513e2d54a6febe9cd853d364"
 },
 "nbformat": 3,
 "nbformat_minor": 0,
 "worksheets": [
  {
   "cells": [
    {
     "cell_type": "markdown",
     "metadata": {},
     "source": [
      "![NANDGATE](http://upload.wikimedia.org/wikipedia/commons/e/e6/NAND_ANSI_Labelled.svg)\n",
      "\n",
      "<style type=\"text/css\">\n",
      ".tg  {border-collapse:collapse;border-spacing:0;}\n",
      ".tg td{font-family:Arial, sans-serif;font-size:14px;padding:10px 5px;border-style:solid;border-width:1px;overflow:hidden;word-break:normal;}\n",
      ".tg th{font-family:Arial, sans-serif;font-size:14px;font-weight:normal;padding:10px 5px;border-style:solid;border-width:1px;overflow:hidden;word-break:normal;}\n",
      ".tg .tg-e3zv{font-weight:bold}\n",
      "</style>\n",
      "<table class=\"tg\">\n",
      "<tbody>\n",
      "<tr>\n",
      "<th colspan=\"2\">Inputs</th>\n",
      "<th>Output</th>\n",
      "</tr>\n",
      "  <tr>\n",
      "    <th class=\"tg-e3zv\">A</th>\n",
      "    <th class=\"tg-e3zv\">B</th>\n",
      "    <th class=\"tg-e3zv\">Q</th>\n",
      "  </tr>\n",
      "  <tr>\n",
      "    <td class=\"tg-031e\">0</td>\n",
      "    <td class=\"tg-031e\">0</td>\n",
      "    <td class=\"tg-031e\">1</td>\n",
      "  </tr>\n",
      "  <tr>\n",
      "    <td class=\"tg-031e\">1</td>\n",
      "    <td class=\"tg-031e\">0</td>\n",
      "    <td class=\"tg-031e\">1</td>\n",
      "  </tr>\n",
      "  <tr>\n",
      "    <td class=\"tg-031e\">0</td>\n",
      "    <td class=\"tg-031e\">1</td>\n",
      "    <td class=\"tg-031e\">1</td>\n",
      "  </tr>\n",
      "  <tr>\n",
      "    <td class=\"tg-031e\">1</td>\n",
      "    <td class=\"tg-031e\">1</td>\n",
      "    <td class=\"tg-031e\">0</td>\n",
      "  </tr>\n",
      "</table>"
     ]
    },
    {
     "cell_type": "code",
     "collapsed": false,
     "input": [
      "antimony = '''\n",
      "model nandgate(A, B, Q)\n",
      "    -> Q; Vmax*(a+A^n+B^n)/(a+A^n+B^n+b*A^n*B^n);\n",
      "    Q -> ; gamma_0*Q\n",
      "\n",
      "    gamma_0 = 0.1;\n",
      "    Vmax = 0.1;\n",
      "    n = 4;\n",
      "    Q = 0;\n",
      "    a= 0.0001; b=1000;\n",
      "end\n",
      "'''"
     ],
     "language": "python",
     "metadata": {},
     "outputs": [],
     "prompt_number": 3
    },
    {
     "cell_type": "code",
     "collapsed": false,
     "input": [
      "def test():\n",
      "    from helpers.testing import test_truth_table\n",
      "\n",
      "    input_ids = ['A', 'B']\n",
      "    output_ids = ['Q']\n",
      "    truth_table = [\n",
      "        ([0, 0], [1]),\n",
      "        ([1, 0], [1]),\n",
      "        ([0, 1], [1]),\n",
      "        ([1, 1], [0]),\n",
      "    ]\n",
      "\n",
      "    r, sims = test_truth_table(antimony, input_ids, output_ids, truth_table)\n",
      "    # Concatenate simulations\n",
      "    for i, sim in enumerate(sims):\n",
      "        if i == 0:\n",
      "            continue\n",
      "        lastTime = sims[i-1][-1, 0]\n",
      "        sim[:,0] += lastTime\n",
      "    import numpy as np\n",
      "    import tellurium as te\n",
      "    te.plotWithLegend(r, np.vstack(sims))"
     ],
     "language": "python",
     "metadata": {},
     "outputs": [
      {
       "output_type": "stream",
       "stream": "stdout",
       "text": [
        "When A:0 B:0 then Q:1 ; Found Q = 0.999949\n",
        "When A:1 B:0 then Q:1 ; Found Q = 1.000000\n",
        "When A:0 B:1 then Q:1 ; Found Q = 1.000001\n",
        "When A:1 B:1 then Q:0 ; Found Q = 0.002046\n"
       ]
      },
      {
       "metadata": {},
       "output_type": "display_data",
       "png": "[encoded data removed]",
       "text": [
        "<matplotlib.figure.Figure at 0x39624d0>"
       ]
      }
     ],
     "prompt_number": 2
    },
    {
     "cell_type": "code",
     "collapsed": false,
     "input": [],
     "language": "python",
     "metadata": {},
     "outputs": []
    }
   ],
   "metadata": {}
  }
 ]
}
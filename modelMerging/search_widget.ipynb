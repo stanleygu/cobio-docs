{
 "metadata": {
  "signature": "sha256:5b95203403ed449dd78739ec13fb64cc23363bed249c45b4d81332c947ad73ce"
 },
 "nbformat": 3,
 "nbformat_minor": 0,
 "worksheets": [
  {
   "cells": [
    {
     "cell_type": "code",
     "collapsed": false,
     "input": [
      "!pip install --upgrade git+https://github.com/stanleygu/tellurium.git"
     ],
     "language": "python",
     "metadata": {},
     "outputs": [
      {
       "output_type": "stream",
       "stream": "stdout",
       "text": [
        "Downloading/unpacking git+https://github.com/stanleygu/tellurium.git\r\n",
        "  Cloning https://github.com/stanleygu/tellurium.git to /tmp/pip-0oP1rU-build\r\n"
       ]
      },
      {
       "output_type": "stream",
       "stream": "stdout",
       "text": [
        "  Running setup.py (path:/tmp/pip-0oP1rU-build/setup.py) egg_info for package from git+https://github.com/stanleygu/tellurium.git\r\n"
       ]
      },
      {
       "output_type": "stream",
       "stream": "stdout",
       "text": [
        "    \r\n"
       ]
      },
      {
       "output_type": "stream",
       "stream": "stdout",
       "text": [
        "Installing collected packages: tellurium\r\n",
        "  Found existing installation: tellurium 1.1.7\r\n"
       ]
      },
      {
       "output_type": "stream",
       "stream": "stdout",
       "text": [
        "    Uninstalling tellurium:\r\n",
        "      Successfully uninstalled tellurium\r\n",
        "  Running setup.py install for tellurium\r\n"
       ]
      },
      {
       "output_type": "stream",
       "stream": "stdout",
       "text": [
        "    \r\n"
       ]
      },
      {
       "output_type": "stream",
       "stream": "stdout",
       "text": [
        "Successfully installed tellurium\r\n",
        "Cleaning up...\r\n"
       ]
      }
     ],
     "prompt_number": 1
    },
    {
     "cell_type": "code",
     "collapsed": false,
     "input": [
      "from tellurium.widgets import ReactionFinder\n",
      "form = ReactionFinder()"
     ],
     "language": "python",
     "metadata": {},
     "outputs": [],
     "prompt_number": 2
    },
    {
     "cell_type": "code",
     "collapsed": false,
     "input": [
      "# Modular Import of Biomodel reaction\n",
      "!pip install git+https://github.com/biomodels/BIOMD0000000071.git > /dev/null\n",
      "import BIOMD0000000071 as m\n",
      "\n",
      "import tellurium as te\n",
      "from tellurium.analysis import make_submodel\n",
      "r = m.sbml.model.getReaction('vPGI')\n",
      "submodel = make_submodel(r)\n",
      "antimony = te.sbmlToAntimony(submodel.toSBML())\n",
      "print antimony"
     ],
     "language": "python",
     "metadata": {},
     "outputs": []
    },
    {
     "cell_type": "code",
     "collapsed": false,
     "input": [
      "# Directly accessing variables from the form\n",
      "r = form.widgets['reactionResults'].value # selected SBML reaction\n",
      "submodel = form.submodel # Generated SBML submodel from reaction"
     ],
     "language": "python",
     "metadata": {},
     "outputs": [],
     "prompt_number": 37
    }
   ],
   "metadata": {}
  }
 ]
}
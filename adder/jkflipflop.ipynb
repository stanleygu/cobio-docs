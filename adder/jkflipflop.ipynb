{
 "metadata": {
  "signature": "sha256:45a0bea521a5d07a52d535e4587d0def52f48e63dc3a2bbb2ee160899ba3743f"
 },
 "nbformat": 3,
 "nbformat_minor": 0,
 "worksheets": [
  {
   "cells": [
    {
     "cell_type": "markdown",
     "metadata": {},
     "source": [
      "![jkflipflop](http://hyperphysics.phy-astr.gsu.edu/hbase/electronic/ietron/jk2.gif)\n",
      "![](http://hyperphysics.phy-astr.gsu.edu/hbase/electronic/ietron/jk3.gif)"
     ]
    },
    {
     "cell_type": "code",
     "collapsed": false,
     "input": [
      "import notebooktools as nb\n",
      "from helpers.testing import test_truth_table\n",
      "nb.loadNotebooksAsModules()"
     ],
     "language": "python",
     "metadata": {},
     "outputs": [],
     "prompt_number": 1
    },
    {
     "cell_type": "code",
     "collapsed": false,
     "input": [
      "import threeNand\n",
      "import nand"
     ],
     "language": "python",
     "metadata": {},
     "outputs": [],
     "prompt_number": 3
    },
    {
     "cell_type": "code",
     "collapsed": false,
     "input": [],
     "language": "python",
     "metadata": {},
     "outputs": []
    }
   ],
   "metadata": {}
  }
 ]
}